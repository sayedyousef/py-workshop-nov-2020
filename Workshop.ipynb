{
 "cells": [
  {
   "cell_type": "code",
   "execution_count": null,
   "metadata": {},
   "outputs": [],
   "source": [
    "x= 1\n",
    "x"
   ]
  },
  {
   "cell_type": "code",
   "execution_count": null,
   "metadata": {
    "scrolled": false
   },
   "outputs": [],
   "source": [
    "print('Hello World! 1')"
   ]
  },
  {
   "cell_type": "code",
   "execution_count": null,
   "metadata": {},
   "outputs": [],
   "source": [
    "a = 5 #int\n",
    "print(a, \"is of type\", type(a))\n",
    "\n",
    "a = 2.0 #float\n",
    "print(a, \"is of type\", type(a))\n",
    "\n",
    "a = True #bool\n",
    "print(a, \"is of type\", type(a))\n"
   ]
  },
  {
   "cell_type": "code",
   "execution_count": null,
   "metadata": {},
   "outputs": [],
   "source": [
    "# Strings immutable \n",
    "s = \"Hello World!\"\n",
    "print (type(s))\n",
    "\n",
    "print(\"s[4] = \", s[4])\n",
    "\n",
    "print(\"s[6:11] = \", s[6:12])\n",
    "\n",
    "s = s.replace(\"World\", \"Universe\")\n",
    "print(s)\n",
    "#print(s2)\n",
    "\n",
    "# Strings are immutable in Python , can not modify the original string \n",
    "s[5] ='d'\n"
   ]
  },
  {
   "cell_type": "code",
   "execution_count": null,
   "metadata": {},
   "outputs": [],
   "source": [
    "#list ordered, mutable\n",
    "a = [5,10,15,20,25,30,35,40]\n",
    "\n",
    "print(\"a[2] = \", a[2])\n",
    "\n",
    "print(\"a[0:3] = \", a[0:3])\n",
    "\n",
    "print(\"a[5:] = \", a[5:])\n",
    "\n",
    "a[2]= 1500\n",
    "print(a)\n",
    "\n",
    "a.append(50)\n",
    "print(a)\n",
    "\n",
    "a.pop(3)# remove\n",
    "print(a)\n",
    "\n",
    "len(a)"
   ]
  },
  {
   "cell_type": "code",
   "execution_count": null,
   "metadata": {},
   "outputs": [],
   "source": [
    "# Tuple immutable\n",
    "'''\n",
    "sasasas\n",
    "sasasa\n",
    "'''\n",
    "a = (1, 2.2, 'name', \"name\")\n",
    "print (a)\n",
    "\n",
    "print(\"a[1] = \", a[1])\n",
    "\n",
    "print(\"a[0:3] = \", a[0:3])\n",
    "b  = a[0:3]\n",
    "b\n",
    "# Tuples are immutable\n",
    "t[0] = 150\n",
    "\n"
   ]
  },
  {
   "cell_type": "code",
   "execution_count": null,
   "metadata": {},
   "outputs": [],
   "source": [
    "#Set unordered & unique\n",
    "a = {5,2,3,1,4}\n",
    "\n",
    "print(\"a = \", a)\n",
    "\n",
    "print(type(a))\n",
    "\n",
    "a.add(4)\n",
    "a.add(6)\n",
    "print(a)\n",
    "\n",
    "\n",
    "for y in a:\n",
    "  print(y+1)\n",
    "\n",
    "print (a[1])# error\n"
   ]
  },
  {
   "cell_type": "code",
   "execution_count": null,
   "metadata": {},
   "outputs": [],
   "source": [
    "# Dictionary key:value\n",
    "\n",
    "# empty dictionary\n",
    "my_dict = {}\n",
    "\n",
    "# dictionary with integer keys\n",
    "my_dict = {1: 'apple', 2: 'ball'}\n",
    "\n",
    "# get vs [] for retrieving elements\n",
    "my_dict = {'name': 'Jack', 'age': 26}\n",
    "\n",
    "# Output: Jack\n",
    "print(my_dict['name'])\n",
    "\n",
    "# Output: 26\n",
    "print(my_dict.get('age'))\n",
    "\n",
    "# Trying to access keys which doesn't exist throws error\n",
    "# Output None\n",
    "print(my_dict.get('address'))# no error\n",
    "\n",
    "# update value\n",
    "my_dict['age'] = 27\n",
    "\n",
    "#Output: {'age': 27, 'name': 'Jack'}\n",
    "print(my_dict)\n",
    "\n",
    "# add item\n",
    "my_dict['address'] = 'Downtown'\n",
    "\n",
    "# Output: {'address': 'Downtown', 'age': 27, 'name': 'Jack'}\n",
    "print(my_dict)\n",
    "\n",
    "# KeyError\n",
    "print(my_dict['phone'])#error\n"
   ]
  },
  {
   "cell_type": "code",
   "execution_count": null,
   "metadata": {},
   "outputs": [],
   "source": [
    "# import package, comment, Indentation \n",
    "import numpy as np\n",
    "x = np.random.randint(0, 10)\n",
    "print (x)\n",
    "\n",
    "if x > 5:\n",
    "    print (\"x > 5\")\n",
    "elif x < 5:\n",
    "    print (\"x < 5\")\n",
    "else:\n",
    "    print (\"x = 5\")\n",
    "    \n",
    "    "
   ]
  },
  {
   "cell_type": "code",
   "execution_count": null,
   "metadata": {},
   "outputs": [],
   "source": [
    "#Class, Object, Function & Method\n",
    "class Car: # class\n",
    "    def __init__ (self,car_type,avg_speed): # constructor\n",
    "        self.type = car_type\n",
    "        self.avg_speed = avg_speed\n",
    "        self.kilometrage = 0\n",
    "    \n",
    "    def move(self, duration_h): # Method\n",
    "        self.kilometrage += (self.avg_speed*duration_h)\n",
    "        return self.kilometrage\n",
    "\n",
    "    def __str__(self):\n",
    "        return self.type + \" \"  + str(self.kilometrage)\n",
    "    def __repr__(self):\n",
    "        return self.type + \" \"  + str(self.kilometrage)\n",
    "\n",
    "    \n",
    "def add(x,y): # Function\n",
    "    return x+y\n",
    "    \n",
    "ford_car = Car('Ford',100) # creat object\n",
    "print (ford_car.type)\n",
    "\n",
    "ford_kilos = ford_car.move(100)\n",
    "print (ford_kilos)\n",
    "\n",
    "honda_car = Car('Honda',200)\n",
    "print (honda_car.type)\n",
    "\n",
    "honda_kilos = honda_car.move(20)\n",
    "print(honda_kilos)\n",
    "\n",
    "total_kilos = add(ford_kilos,honda_kilos) \n",
    "print(total_kilos)\n",
    "    \n",
    "cars = [ford_car, honda_car] # list\n",
    "print(cars)\n"
   ]
  },
  {
   "cell_type": "code",
   "execution_count": null,
   "metadata": {},
   "outputs": [],
   "source": []
  },
  {
   "cell_type": "code",
   "execution_count": null,
   "metadata": {},
   "outputs": [],
   "source": [
    "%matplotlib inline\n",
    "import pandas as pd\n",
    "import matplotlib.pyplot as plt\n",
    "import seaborn as sns \n",
    "sns.set(style=\"darkgrid\")"
   ]
  },
  {
   "cell_type": "code",
   "execution_count": null,
   "metadata": {},
   "outputs": [],
   "source": [
    "import pandas as pd\n",
    "import numpy as np"
   ]
  },
  {
   "cell_type": "code",
   "execution_count": null,
   "metadata": {},
   "outputs": [],
   "source": [
    "import pandas as pd\n",
    "\n",
    "list_a = [[1,2,3,4,5],\n",
    "          [6,7,8,9,10],\n",
    "         [6,7,8,9,22]]\n",
    "columns = ['a','b','c','d','F']\n",
    "df_a = pd.DataFrame(list_a, columns=columns)\n",
    "df_a.head()\n",
    "print(df_a) "
   ]
  },
  {
   "cell_type": "code",
   "execution_count": null,
   "metadata": {},
   "outputs": [],
   "source": [
    "import pandas as pd\n",
    "import numpy as np\n",
    "\n",
    "url_data = 'https://raw.githubusercontent.com/owid/covid-19-data/master/public/data/owid-covid-data.csv'\n",
    "df = pd.read_csv(url_data, low_memory=False)\n",
    "\n",
    "print(df.shape)\n",
    "print(df.columns)\n",
    "print(df.describe())\n",
    "print (df.info())\n"
   ]
  },
  {
   "cell_type": "code",
   "execution_count": null,
   "metadata": {},
   "outputs": [],
   "source": [
    "\n",
    "\n",
    "df_sub_col = df[['location','total_cases','total_deaths','date'] ]\n",
    "print(df_sub_col.shape)\n",
    "print (df_sub_col.head(10))\n",
    "print (df_sub_col.tail(10))\n",
    "\n"
   ]
  },
  {
   "cell_type": "code",
   "execution_count": null,
   "metadata": {},
   "outputs": [],
   "source": [
    "print(df[['total_deaths_per_million','hospital_beds_per_thousand', 'human_development_index']].corr())\n",
    "\n",
    "print(df['location'].value_counts().head(5))\n",
    "\n",
    "print(df['new_cases'].sum()/2)\n"
   ]
  },
  {
   "cell_type": "code",
   "execution_count": null,
   "metadata": {},
   "outputs": [],
   "source": [
    "\n",
    "\n",
    "fd_i = df_sub_col.iloc[15180]\n",
    "print (fd_i)\n",
    "fd_i = df_sub_col.iloc[15180:15185]\n",
    "print (fd_i)\n",
    "\n",
    "\n",
    "\n"
   ]
  },
  {
   "cell_type": "code",
   "execution_count": null,
   "metadata": {},
   "outputs": [],
   "source": [
    "condition = (df_sub_col['date'] == \"2020-11-04\")\n",
    "print(condition)\n",
    "\n",
    "df_last = df_sub_col[df_sub_col['date'] == \"2020-11-05\"]\n",
    "print(df_last.shape)\n",
    "print(df_last.head(10))\n",
    "\n",
    "df_last = df_sub_col[ (df_sub_col['date'] == \"2020-11-04\" ) & (df_sub_col['total_deaths']>10000)]\n",
    "print(df_last.shape)\n",
    "print(df_last.head(10))\n",
    "\n",
    "df_last = df_sub_col[ (df_sub_col['date'] == \"2020-11-04\" ) & (df_sub_col['location'].isin (['Egypt','Japan']))]\n",
    "\n",
    "print(df_last.shape)\n",
    "print(df_last.head(10))\n",
    "\n",
    "\n"
   ]
  },
  {
   "cell_type": "code",
   "execution_count": 193,
   "metadata": {},
   "outputs": [],
   "source": [
    "%%capture\n",
    "import matplotlib.pyplot as plt\n",
    "%matplotlib inline\n",
    "\n",
    "plt.rcParams.update({'font.size': 20, 'figure.figsize': (10, 8)}) # set font and plot size to be larger\n",
    "fd_eg =  df_sub_col[df_sub_col['location'] == \"Egypt\"]\n",
    "fd_eg.plot(kind='line',x='date',y='total_cases',  title='Egypt Cases')\n",
    "fd_eg.plot(kind='line',x='date',y='total_deaths',  title='Egypt deaths')\n"
   ]
  },
  {
   "cell_type": "code",
   "execution_count": null,
   "metadata": {},
   "outputs": [],
   "source": [
    "plt.plot( 'date', 'total_cases', data=fd_eg, marker='o', color='skyblue', linewidth=4)\n",
    "plt.plot( 'date', 'total_deaths', data=fd_eg, marker='', color='olive', linewidth=2)\n",
    "plt.legend()\n"
   ]
  },
  {
   "cell_type": "code",
   "execution_count": null,
   "metadata": {},
   "outputs": [],
   "source": []
  }
 ],
 "metadata": {
  "kernelspec": {
   "display_name": "Python 3",
   "language": "python",
   "name": "python3"
  },
  "language_info": {
   "codemirror_mode": {
    "name": "ipython",
    "version": 3
   },
   "file_extension": ".py",
   "mimetype": "text/x-python",
   "name": "python",
   "nbconvert_exporter": "python",
   "pygments_lexer": "ipython3",
   "version": "3.8.3"
  }
 },
 "nbformat": 4,
 "nbformat_minor": 4
}
